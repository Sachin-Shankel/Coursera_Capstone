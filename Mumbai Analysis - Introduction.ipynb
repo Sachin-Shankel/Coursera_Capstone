{
 "cells": [
  {
   "cell_type": "markdown",
   "metadata": {},
   "source": [
    " <h1 style='text-align:center'>Report - Mumbai Neighborhood Analysis</h1>"
   ]
  },
  {
   "cell_type": "markdown",
   "metadata": {},
   "source": [
    "# Introduction"
   ]
  },
  {
   "cell_type": "markdown",
   "metadata": {},
   "source": [
    " Mumbai is a highly dense metropolitan city in Central-Western India inhabiting people from different parts of the country as well as the world. It is the financial capital of India. Thousands of tourists from across the globe visit the city every year, pertaining to its rich cultural heritage and iconic monuments. The city is home to the famous Gateway of India near the iconic Taj Mahal Palace hotel, the duo being the face of the city for many decades now. It is also famous as the hub of Bollywood-the mainstream film industry in the country.\n",
    "\n",
    "It is a city of ample opportunies in terms of jobs, business, cinema, etc. All these make it a 'dream city' for many and for a reason is nicknamed 'The City of Dreams'.\n",
    "\n",
    "There has been a consistent influx of people to the city. The population in Mumbai is so diverse that different people ahave entirely different interests and needs. It has people belonging to all the sections of the society ranging from high-class to middle-class to even people without the basic necessities and dwell in the biggest of slums. Surprisingly, it is also home to one of the largest slums in the world.\n",
    "\n",
    "Given the span of the city and diversity it hosts, it is a cumbersome task for anyone who visits the city to figure out which place to visit, according to his or her preferences.\n",
    "\n",
    "This project aims at answering the very keen question literally anyone visiting the city will have - Where to go about in Mumbai??\n"
   ]
  }
 ],
 "metadata": {
  "kernelspec": {
   "display_name": "Python 3",
   "language": "python",
   "name": "python3"
  },
  "language_info": {
   "codemirror_mode": {
    "name": "ipython",
    "version": 3
   },
   "file_extension": ".py",
   "mimetype": "text/x-python",
   "name": "python",
   "nbconvert_exporter": "python",
   "pygments_lexer": "ipython3",
   "version": "3.8.3"
  }
 },
 "nbformat": 4,
 "nbformat_minor": 4
}
